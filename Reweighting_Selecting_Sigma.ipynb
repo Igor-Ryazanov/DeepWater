{
 "cells": [
  {
   "cell_type": "code",
   "execution_count": 1,
   "metadata": {},
   "outputs": [],
   "source": [
    "import numpy as np\n",
    "import Scripts.meta_resnet as mrn\n",
    "import Scripts.wake_processing as wp\n",
    "import importlib\n",
    "import Scripts.autoencoder as ae\n",
    "from sklearn.model_selection import train_test_split\n",
    "import torch.nn as nn\n",
    "import torch\n",
    "from torch.utils.data import DataLoader, TensorDataset\n",
    "from sklearn.metrics import accuracy_score\n",
    "import matplotlib.pyplot as plt\n",
    "from tqdm import tqdm\n",
    "from collections import Counter\n",
    "from math import ceil\n",
    "%matplotlib inline"
   ]
  },
  {
   "cell_type": "code",
   "execution_count": 2,
   "metadata": {},
   "outputs": [
    {
     "data": {
      "text/plain": [
       "<module 'Scripts.wake_processing' from 'E:\\\\Studies\\\\Deep Water\\\\DeepWater\\\\Scripts\\\\wake_processing.py'>"
      ]
     },
     "execution_count": 2,
     "metadata": {},
     "output_type": "execute_result"
    }
   ],
   "source": [
    "importlib.reload(mrn)\n",
    "importlib.reload(wp)"
   ]
  },
  {
   "cell_type": "code",
   "execution_count": 3,
   "metadata": {},
   "outputs": [],
   "source": [
    "RS = 45\n",
    "device = torch.device(\"cuda\" if torch.cuda.is_available() else \"cpu\")"
   ]
  },
  {
   "cell_type": "markdown",
   "metadata": {},
   "source": [
    "## Training Data"
   ]
  },
  {
   "cell_type": "code",
   "execution_count": 4,
   "metadata": {},
   "outputs": [],
   "source": [
    "real_wakes_data = np.load(\"Data\\\\Wake data\\\\confirmed_wakes.npy\")\n",
    "generated_wakes = np.load(\"Data\\\\Wake data\\\\generated_wakes_1000.npy\")\n",
    "not_wakes_day_data = np.load(\"Data\\\\Wake data\\\\negative_samples_3000_day.npy\")\n",
    "not_wakes_all_data = np.load(\"Data\\\\Wake data\\\\negative_samples_3000.npy\")\n",
    "clean_negative_samples = np.load(\"Data\\\\Wake data\\\\clean_negative_samples.npy\")\n",
    "clean_positive_samples  = np.load(\"Data\\\\Wake data\\\\clean_positive_samples.npy\")\n",
    "real_wakes = real_wakes_data[:,:,:-1,:]\n",
    "not_wakes = not_wakes_day_data[:,:,:-1,:]\n",
    "not_wakes_all = not_wakes_day_data[:,:,:-1,:]"
   ]
  },
  {
   "cell_type": "markdown",
   "metadata": {},
   "source": [
    "## The tiny clean dataset"
   ]
  },
  {
   "cell_type": "code",
   "execution_count": 5,
   "metadata": {},
   "outputs": [],
   "source": [
    "tiny_real = clean_positive_samples[:,:,:,:]"
   ]
  },
  {
   "cell_type": "code",
   "execution_count": 6,
   "metadata": {},
   "outputs": [],
   "source": [
    "tiny_negative = []\n",
    "for i in [15, 17, 19, 21, 26]:\n",
    "    tiny_negative.append(clean_negative_samples[i,:,:-1,:])\n",
    "tiny_negative = np.array(tiny_negative)"
   ]
  },
  {
   "cell_type": "code",
   "execution_count": 7,
   "metadata": {},
   "outputs": [],
   "source": [
    "tiny_frames = np.append(tiny_real, tiny_negative, axis = 0)\n",
    "tiny_pos_y = np.concatenate((np.ones(5).reshape(-1,1), np.zeros(5).reshape(-1,1)), axis = 1)\n",
    "tiny_neg_y = np.concatenate((np.zeros(5).reshape(-1,1), np.ones(5).reshape(-1,1)), axis = 1)\n",
    "tiny_labels = np.append(tiny_pos_y, tiny_neg_y, axis = 0)\n",
    "tiny_X = torch.tensor(tiny_frames).float().to(device)\n",
    "tiny_y = torch.tensor(tiny_labels).float().to(device)"
   ]
  },
  {
   "cell_type": "code",
   "execution_count": null,
   "metadata": {},
   "outputs": [],
   "source": []
  },
  {
   "cell_type": "markdown",
   "metadata": {},
   "source": [
    "## Train function"
   ]
  },
  {
   "cell_type": "code",
   "execution_count": 8,
   "metadata": {},
   "outputs": [],
   "source": [
    "def train_weights(net, train_data, test_data, num_epochs=5, batch_size=5,  learning_rate=1e-3):\n",
    "    net = net.to(device)\n",
    "    opt = torch.optim.Adam(net.parameters(), lr=learning_rate, weight_decay=1e-5)\n",
    "    criterion = nn.BCELoss(reduction = 'none')\n",
    "    criterion_mean = nn.BCELoss(reduction = 'mean')\n",
    "    train_loader = DataLoader(train_data, shuffle=True, batch_size=batch_size, num_workers=0, drop_last=True)\n",
    "    X_val, y_val = test_data.tensors[0].to(device), test_data.tensors[1].to(device)\n",
    "    train_losses = []\n",
    "    val_losses = []\n",
    "    val_accs = []\n",
    "    train_accs= []\n",
    "    \n",
    "    for epoch in range(num_epochs):\n",
    "        total_loss = []\n",
    "        batch_accs = []\n",
    "        for i, (X, y) in enumerate(train_loader):\n",
    "            net.train()\n",
    "            X = X.to(device)\n",
    "            y = y.to(device)\n",
    "            \n",
    "            \n",
    "            meta_net = mrn.ResNet18().to(device)\n",
    "            meta_net.load_state_dict(net.state_dict())\n",
    "            # Lines 4 - 5 initial forward pass to compute the initial weighted loss\n",
    "            \n",
    "            y_f_hat  = meta_net(X)\n",
    "            cost = criterion(y_f_hat,y)\n",
    "            eps = torch.zeros(cost.size()).to(device)\n",
    "            eps.requires_grad = True\n",
    "            l_f_meta = torch.sum(cost * eps)\n",
    "            meta_net.zero_grad()\n",
    "            \n",
    "            \n",
    "             # Line 6 perform a parameter update\n",
    "            grads = torch.autograd.grad(l_f_meta, (meta_net.parameters()), create_graph=True)\n",
    "            meta_net.update_params(learning_rate, source_params=grads)\n",
    "\n",
    "            # Line 8 - 10 2nd forward pass and getting the gradients with respect to epsilon\n",
    "            y_g_hat = meta_net(tiny_X)\n",
    "\n",
    "            l_g_meta = criterion_mean(y_g_hat,tiny_y)\n",
    "\n",
    "            grad_eps = torch.autograd.grad(l_g_meta, eps, only_inputs=True)[0]\n",
    "            \n",
    "            # Line 11 computing and normalizing the weights\n",
    "        \n",
    "            w_tilde = torch.clamp(-grad_eps,min=0)\n",
    "            norm_c = torch.sum(w_tilde)\n",
    "\n",
    "            if norm_c != 0:\n",
    "                w = w_tilde / norm_c\n",
    "            else:\n",
    "                w = w_tilde\n",
    "\n",
    "            # Lines 12 - 14 computing for the loss with the computed weights\n",
    "            # and then perform a parameter update\n",
    "            y_f_hat = net(X)\n",
    "            cost = criterion(y_f_hat,y)\n",
    "            l_f = torch.sum(cost * w)\n",
    "\n",
    "            train_pred_label = 1 - torch.argmax(y_f_hat, dim = 1).cpu().detach().numpy()\n",
    "            train_true_label = 1 - torch.argmax(y, dim = 1).cpu().detach().numpy()\n",
    "            batch_acc = accuracy_score(train_true_label, train_pred_label)\n",
    "            batch_accs.append(batch_acc)\n",
    "            total_loss.append(torch.mean(cost).cpu().detach().numpy())\n",
    "            \n",
    "            opt.zero_grad()\n",
    "            l_f.backward()\n",
    "            opt.step()\n",
    "            \n",
    "            \n",
    "        #Checking accuracy/loss\n",
    "        net.eval()\n",
    "        \n",
    "        train_loss = sum(total_loss)/len(total_loss)\n",
    "        train_acc = sum(batch_accs)/len(batch_accs)\n",
    "        val_pred = net(X_val)\n",
    "        val_pred_label = 1 - torch.argmax(val_pred, dim = 1).cpu().detach().numpy()\n",
    "        val_true_label = 1 - torch.argmax(y_val, dim = 1).cpu().detach().numpy()\n",
    "        val_loss = criterion_mean(val_pred, y_val).item()\n",
    "        val_acc = accuracy_score(val_true_label, val_pred_label)\n",
    "        \n",
    "        train_losses.append(train_loss)\n",
    "        val_losses.append(val_loss)\n",
    "        val_accs.append(val_acc)\n",
    "        train_accs.append(train_acc)\n",
    "        print('Epoch:{}, Loss:{:.4f}, Val Loss:{:.4f}, Train Acc:{:.4f}, Val Acc:{:.4f}'.format(epoch+1, train_loss,\n",
    "                                                                                           val_loss, train_acc, val_acc))\n",
    "    return train_losses, val_losses, train_accs, val_accs"
   ]
  },
  {
   "cell_type": "code",
   "execution_count": 9,
   "metadata": {},
   "outputs": [],
   "source": [
    "def smooth_prediction(x, net, sigma, num = 500, batch_size = 10):\n",
    "    net.eval()\n",
    "    x = torch.tensor(x).float()\n",
    "    with torch.no_grad():\n",
    "        counts = np.zeros(2, dtype=int)\n",
    "        for _ in range(ceil(num / batch_size)):\n",
    "            this_batch_size = min(batch_size, num)\n",
    "            num -= this_batch_size\n",
    "            batch = x.repeat((this_batch_size, 1, 1, 1)).to(device)\n",
    "            noise = torch.randn_like(batch, device=device) * sigma\n",
    "            noisy_batch = batch + noise\n",
    "            b_max = noisy_batch.max()\n",
    "            b_min = noisy_batch.min()\n",
    "            noisy_batch = (noisy_batch - b_min)/(b_max-b_min)\n",
    "            predictions = net(noisy_batch).argmax(1)   \n",
    "            counts_update = np.zeros(2, dtype=int)\n",
    "            for idx in predictions.cpu().numpy():\n",
    "                counts[idx] += 1\n",
    "            counts += counts_update\n",
    "        pred = counts.argmax() \n",
    "    return pred"
   ]
  },
  {
   "cell_type": "code",
   "execution_count": 10,
   "metadata": {},
   "outputs": [],
   "source": [
    "def make_plots(train_losses, val_losses, train_accs, val_accs):\n",
    "    plt.figure(figsize=(10,6))\n",
    "    plt.plot(train_losses, label = 'Train loss')\n",
    "    plt.plot(val_losses, label = 'Validation loss')\n",
    "    plt.legend(loc = 'upper left')\n",
    "    plt.xlabel('Epoch')\n",
    "    plt.ylabel('Binary Cross-entropy loss')\n",
    "    plt.show()\n",
    "    plt.figure(figsize=(10,6))\n",
    "    plt.plot(train_accs, label = 'Train accuracy')\n",
    "    plt.plot(val_accs, label = 'Validation accuracy')\n",
    "    plt.legend(loc = 'upper left')\n",
    "    plt.xlabel('Epoch')\n",
    "    plt.ylabel('Accuracy')\n",
    "    plt.show()"
   ]
  },
  {
   "cell_type": "code",
   "execution_count": 11,
   "metadata": {},
   "outputs": [],
   "source": [
    "\n",
    "num_epochs = 25"
   ]
  },
  {
   "cell_type": "markdown",
   "metadata": {},
   "source": [
    "## Experiment: Randomized Smoothing model\n",
    "### Training: 500 positive (113 real + 387 generated) and 500 negative \n",
    "### Test: 75 positive (29 real + 46 generated) and 75 negative"
   ]
  },
  {
   "cell_type": "code",
   "execution_count": 12,
   "metadata": {},
   "outputs": [],
   "source": [
    "train_real, test_real = train_test_split(real_wakes, test_size=0.2, random_state=RS)\n",
    "train_gen, test_gen = train_test_split(generated_wakes, train_size = 0.387, test_size=0.046, random_state=RS)\n",
    "train_neg, test_neg = train_test_split(not_wakes, train_size = 1/6, test_size = 75/3000, random_state = RS)"
   ]
  },
  {
   "cell_type": "code",
   "execution_count": 13,
   "metadata": {},
   "outputs": [],
   "source": [
    "test_pos = np.append(test_real, test_gen, axis = 0)\n",
    "train_pos = np.append(train_real, train_gen, axis = 0)\n",
    "test_x = np.append(test_pos, test_neg, axis = 0)\n",
    "train_x = np.append(train_pos, train_neg, axis = 0)\n",
    "test_pos_y = np.concatenate((np.ones(test_pos.shape[0]).reshape(-1,1), np.zeros(test_pos.shape[0]).reshape(-1,1)), axis = 1)\n",
    "test_neg_y = np.concatenate((np.zeros(test_neg.shape[0]).reshape(-1,1), np.ones(test_neg.shape[0]).reshape(-1,1)), axis = 1)\n",
    "train_pos_y = np.concatenate((np.ones(train_pos.shape[0]).reshape(-1,1), np.zeros(train_pos.shape[0]).reshape(-1,1)), axis = 1)\n",
    "train_neg_y = np.concatenate((np.zeros(train_neg.shape[0]).reshape(-1,1), np.ones(train_neg.shape[0]).reshape(-1,1)), axis = 1)\n",
    "test_y = np.append(test_pos_y, test_neg_y, axis = 0)\n",
    "train_y = np.append(train_pos_y, train_neg_y, axis = 0)"
   ]
  },
  {
   "cell_type": "code",
   "execution_count": 14,
   "metadata": {},
   "outputs": [],
   "source": [
    "train_dataset = TensorDataset(torch.Tensor(train_x), torch.Tensor(train_y))\n",
    "test_dataset = TensorDataset(torch.Tensor(test_x), torch.Tensor(test_y))"
   ]
  },
  {
   "cell_type": "code",
   "execution_count": 15,
   "metadata": {},
   "outputs": [
    {
     "name": "stdout",
     "output_type": "stream",
     "text": [
      "Epoch:1, Loss:0.3974, Val Loss:0.2533, Train Acc:0.8420, Val Acc:0.9067\n",
      "Epoch:2, Loss:0.2507, Val Loss:0.2052, Train Acc:0.9040, Val Acc:0.9333\n",
      "Epoch:3, Loss:0.2815, Val Loss:0.2221, Train Acc:0.8860, Val Acc:0.9200\n",
      "Epoch:4, Loss:0.2950, Val Loss:0.2977, Train Acc:0.9010, Val Acc:0.8933\n",
      "Epoch:5, Loss:0.2689, Val Loss:0.4343, Train Acc:0.9130, Val Acc:0.8467\n",
      "Epoch:6, Loss:0.3117, Val Loss:0.2331, Train Acc:0.8930, Val Acc:0.9133\n",
      "Epoch:7, Loss:0.1967, Val Loss:0.2268, Train Acc:0.9320, Val Acc:0.9200\n",
      "Epoch:8, Loss:0.1868, Val Loss:0.1726, Train Acc:0.9420, Val Acc:0.9467\n",
      "Epoch:9, Loss:0.2647, Val Loss:0.3200, Train Acc:0.9000, Val Acc:0.8867\n",
      "Epoch:10, Loss:0.1723, Val Loss:0.2580, Train Acc:0.9450, Val Acc:0.9400\n",
      "Epoch:11, Loss:0.2132, Val Loss:0.3222, Train Acc:0.9250, Val Acc:0.9000\n",
      "Epoch:12, Loss:0.3329, Val Loss:0.4093, Train Acc:0.9020, Val Acc:0.8733\n",
      "Epoch:13, Loss:0.3920, Val Loss:0.3847, Train Acc:0.9000, Val Acc:0.8933\n",
      "Epoch:14, Loss:0.3343, Val Loss:0.1436, Train Acc:0.9130, Val Acc:0.9533\n",
      "Epoch:15, Loss:0.3661, Val Loss:0.3833, Train Acc:0.8840, Val Acc:0.8333\n",
      "Epoch:16, Loss:0.2831, Val Loss:0.3359, Train Acc:0.9050, Val Acc:0.8933\n",
      "Epoch:17, Loss:0.2771, Val Loss:0.2909, Train Acc:0.9110, Val Acc:0.8867\n",
      "Epoch:18, Loss:0.2886, Val Loss:0.3011, Train Acc:0.9070, Val Acc:0.9000\n",
      "Epoch:19, Loss:0.3070, Val Loss:0.2396, Train Acc:0.9090, Val Acc:0.9133\n",
      "Epoch:20, Loss:0.3487, Val Loss:0.4050, Train Acc:0.9030, Val Acc:0.9000\n",
      "Epoch:21, Loss:0.3744, Val Loss:0.4166, Train Acc:0.8880, Val Acc:0.8867\n",
      "Epoch:22, Loss:0.3580, Val Loss:0.3657, Train Acc:0.8950, Val Acc:0.8867\n",
      "Epoch:23, Loss:0.2790, Val Loss:0.2599, Train Acc:0.9080, Val Acc:0.9067\n",
      "Epoch:24, Loss:0.2548, Val Loss:0.2837, Train Acc:0.9260, Val Acc:0.8933\n",
      "Epoch:25, Loss:0.3452, Val Loss:0.3548, Train Acc:0.8970, Val Acc:0.9000\n"
     ]
    }
   ],
   "source": [
    "resnet_1 = None\n",
    "resnet_1 = mrn.ResNet18()\n",
    "train_losses, val_losses, train_accs, val_accs = train_weights(resnet_1, train_dataset, test_dataset, num_epochs = num_epochs, learning_rate=1e-4)"
   ]
  },
  {
   "cell_type": "code",
   "execution_count": 16,
   "metadata": {},
   "outputs": [
    {
     "data": {
      "image/png": "[encoded data removed]",
      "text/plain": [
       "<Figure size 720x432 with 1 Axes>"
      ]
     },
     "metadata": {
      "needs_background": "light"
     },
     "output_type": "display_data"
    },
    {
     "data": {
      "image/png": "[encoded data removed]",
      "text/plain": [
       "<Figure size 720x432 with 1 Axes>"
      ]
     },
     "metadata": {
      "needs_background": "light"
     },
     "output_type": "display_data"
    }
   ],
   "source": [
    "make_plots(train_losses, val_losses, train_accs, val_accs)"
   ]
  },
  {
   "cell_type": "markdown",
   "metadata": {},
   "source": [
    "## Experiment: Smoothing with normal test data\n",
    "### Training: 500 positive (113 real + 387 generated) and 500 negative \n",
    "### Test: 75 positive (29 real + 46 generated) and 75 negative"
   ]
  },
  {
   "cell_type": "code",
   "execution_count": 17,
   "metadata": {},
   "outputs": [],
   "source": [
    "correct_predictions = test_y.argmax(1)"
   ]
  },
  {
   "cell_type": "code",
   "execution_count": 18,
   "metadata": {},
   "outputs": [
    {
     "name": "stdout",
     "output_type": "stream",
     "text": [
      "Sigma = 0.3, Test Accuracy: 0.5067\n"
     ]
    }
   ],
   "source": [
    "sigma = 0.3\n",
    "smooth_predictions = []\n",
    "for frame in test_x:\n",
    "    smooth_predictions.append(smooth_prediction(frame, resnet_1, sigma = sigma))\n",
    "smooth_predictions = np.array(smooth_predictions)\n",
    "print(\"Sigma = 0.3, Test Accuracy: {:.4}\".format(accuracy_score(correct_predictions, smooth_predictions)))"
   ]
  },
  {
   "cell_type": "code",
   "execution_count": 19,
   "metadata": {},
   "outputs": [
    {
     "name": "stdout",
     "output_type": "stream",
     "text": [
      "Sigma = 0.25, Test Accuracy: 0.5133\n"
     ]
    }
   ],
   "source": [
    "sigma = 0.25\n",
    "smooth_predictions = []\n",
    "for frame in test_x:\n",
    "    smooth_predictions.append(smooth_prediction(frame, resnet_1, sigma = sigma))\n",
    "smooth_predictions = np.array(smooth_predictions)\n",
    "print(\"Sigma = 0.25, Test Accuracy: {:.4}\".format(accuracy_score(correct_predictions, smooth_predictions)))"
   ]
  },
  {
   "cell_type": "code",
   "execution_count": 20,
   "metadata": {},
   "outputs": [
    {
     "name": "stdout",
     "output_type": "stream",
     "text": [
      "Sigma = 0.2, Test Accuracy: 0.5267\n"
     ]
    }
   ],
   "source": [
    "sigma = 0.2\n",
    "smooth_predictions = []\n",
    "for frame in test_x:\n",
    "    smooth_predictions.append(smooth_prediction(frame, resnet_1, sigma = sigma))\n",
    "smooth_predictions = np.array(smooth_predictions)\n",
    "print(\"Sigma = 0.2, Test Accuracy: {:.4}\".format(accuracy_score(correct_predictions, smooth_predictions)))"
   ]
  },
  {
   "cell_type": "code",
   "execution_count": 21,
   "metadata": {},
   "outputs": [
    {
     "name": "stdout",
     "output_type": "stream",
     "text": [
      "Sigma = 0.15, Test Accuracy: 0.5733\n"
     ]
    }
   ],
   "source": [
    "sigma = 0.15\n",
    "smooth_predictions = []\n",
    "for frame in test_x:\n",
    "    smooth_predictions.append(smooth_prediction(frame, resnet_1, sigma = sigma))\n",
    "smooth_predictions = np.array(smooth_predictions)\n",
    "print(\"Sigma = 0.15, Test Accuracy: {:.4}\".format(accuracy_score(correct_predictions, smooth_predictions)))"
   ]
  },
  {
   "cell_type": "code",
   "execution_count": 22,
   "metadata": {},
   "outputs": [
    {
     "name": "stdout",
     "output_type": "stream",
     "text": [
      "Sigma = 0.1, Test Accuracy: 0.66\n"
     ]
    }
   ],
   "source": [
    "sigma = 0.1\n",
    "smooth_predictions = []\n",
    "for frame in test_x:\n",
    "    smooth_predictions.append(smooth_prediction(frame, resnet_1, sigma = sigma))\n",
    "smooth_predictions = np.array(smooth_predictions)\n",
    "print(\"Sigma = 0.1, Test Accuracy: {:.4}\".format(accuracy_score(correct_predictions, smooth_predictions)))"
   ]
  },
  {
   "cell_type": "code",
   "execution_count": 23,
   "metadata": {},
   "outputs": [
    {
     "name": "stdout",
     "output_type": "stream",
     "text": [
      "Sigma = 0.085, Test Accuracy: 0.68\n"
     ]
    }
   ],
   "source": [
    "sigma = 0.085\n",
    "smooth_predictions = []\n",
    "for frame in test_x:\n",
    "    smooth_predictions.append(smooth_prediction(frame, resnet_1, sigma = sigma))\n",
    "smooth_predictions = np.array(smooth_predictions)\n",
    "print(\"Sigma = 0.085, Test Accuracy: {:.4}\".format(accuracy_score(correct_predictions, smooth_predictions)))"
   ]
  },
  {
   "cell_type": "code",
   "execution_count": 24,
   "metadata": {},
   "outputs": [
    {
     "name": "stdout",
     "output_type": "stream",
     "text": [
      "Sigma = 0.05, Test Accuracy: 0.7\n"
     ]
    }
   ],
   "source": [
    "sigma = 0.065\n",
    "smooth_predictions = []\n",
    "for frame in test_x:\n",
    "    smooth_predictions.append(smooth_prediction(frame, resnet_1, sigma = sigma))\n",
    "smooth_predictions = np.array(smooth_predictions)\n",
    "print(\"Sigma = 0.05, Test Accuracy: {:.4}\".format(accuracy_score(correct_predictions, smooth_predictions)))"
   ]
  },
  {
   "cell_type": "code",
   "execution_count": 25,
   "metadata": {},
   "outputs": [
    {
     "name": "stdout",
     "output_type": "stream",
     "text": [
      "Sigma = 0.05, Test Accuracy: 0.7267\n"
     ]
    }
   ],
   "source": [
    "sigma = 0.05\n",
    "smooth_predictions = []\n",
    "for frame in test_x:\n",
    "    smooth_predictions.append(smooth_prediction(frame, resnet_1, sigma = sigma))\n",
    "smooth_predictions = np.array(smooth_predictions)\n",
    "print(\"Sigma = 0.05, Test Accuracy: {:.4}\".format(accuracy_score(correct_predictions, smooth_predictions)))"
   ]
  },
  {
   "cell_type": "code",
   "execution_count": 26,
   "metadata": {},
   "outputs": [
    {
     "name": "stdout",
     "output_type": "stream",
     "text": [
      "Sigma = 0.03, Test Accuracy: 0.7933\n"
     ]
    }
   ],
   "source": [
    "sigma = 0.03\n",
    "smooth_predictions = []\n",
    "for frame in test_x:\n",
    "    smooth_predictions.append(smooth_prediction(frame, resnet_1, sigma = sigma))\n",
    "smooth_predictions = np.array(smooth_predictions)\n",
    "print(\"Sigma = 0.03, Test Accuracy: {:.4}\".format(accuracy_score(correct_predictions, smooth_predictions)))"
   ]
  },
  {
   "cell_type": "code",
   "execution_count": 27,
   "metadata": {},
   "outputs": [
    {
     "name": "stdout",
     "output_type": "stream",
     "text": [
      "Sigma = 0.01, Test Accuracy: 0.86\n"
     ]
    }
   ],
   "source": [
    "sigma = 0.01\n",
    "smooth_predictions = []\n",
    "for frame in test_x:\n",
    "    smooth_predictions.append(smooth_prediction(frame, resnet_1, sigma = sigma))\n",
    "smooth_predictions = np.array(smooth_predictions)\n",
    "print(\"Sigma = 0.01, Test Accuracy: {:.4}\".format(accuracy_score(correct_predictions, smooth_predictions)))"
   ]
  },
  {
   "cell_type": "code",
   "execution_count": null,
   "metadata": {},
   "outputs": [],
   "source": []
  },
  {
   "cell_type": "code",
   "execution_count": null,
   "metadata": {},
   "outputs": [],
   "source": []
  }
 ],
 "metadata": {
  "kernelspec": {
   "display_name": "Python 3",
   "language": "python",
   "name": "python3"
  },
  "language_info": {
   "codemirror_mode": {
    "name": "ipython",
    "version": 3
   },
   "file_extension": ".py",
   "mimetype": "text/x-python",
   "name": "python",
   "nbconvert_exporter": "python",
   "pygments_lexer": "ipython3",
   "version": "3.7.3"
  }
 },
 "nbformat": 4,
 "nbformat_minor": 2
}
