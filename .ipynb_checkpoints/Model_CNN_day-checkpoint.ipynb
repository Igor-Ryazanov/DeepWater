{
 "cells": [
  {
   "cell_type": "code",
   "execution_count": 1,
   "metadata": {},
   "outputs": [],
   "source": [
    "# YOUR CODE HERE\n",
    "import pandas as pd\n",
    "import matplotlib.pyplot as plt\n",
    "import numpy as np\n",
    "import pandas as pd\n",
    "from sklearn.model_selection import train_test_split\n",
    "from sklearn.metrics import confusion_matrix\n",
    "from sklearn.decomposition import PCA\n",
    "from sklearn.mixture import GaussianMixture as GMM\n",
    "%matplotlib inline\n",
    "import random\n",
    "import importlib\n",
    "import Scripts.autoencoder as ae\n",
    "import Scripts.wake_processing as wp\n",
    "from collections import OrderedDict\n",
    "import torch.nn as nn\n",
    "import torch\n",
    "from torch.utils.data import DataLoader, TensorDataset\n",
    "import gc\n"
   ]
  },
  {
   "cell_type": "code",
   "execution_count": 2,
   "metadata": {},
   "outputs": [],
   "source": [
    "from sklearn.model_selection import train_test_split\n",
    "from sklearn.metrics import accuracy_score"
   ]
  },
  {
   "cell_type": "code",
   "execution_count": 3,
   "metadata": {},
   "outputs": [],
   "source": [
    "import Scripts.mnist_cnn as cnn\n",
    "import Scripts.cifar_resnet as resnet"
   ]
  },
  {
   "cell_type": "code",
   "execution_count": 4,
   "metadata": {},
   "outputs": [
    {
     "data": {
      "text/plain": [
       "<module 'Scripts.mnist_cnn' from 'E:\\\\Studies\\\\Deep Water\\\\DeepWater\\\\Scripts\\\\mnist_cnn.py'>"
      ]
     },
     "execution_count": 4,
     "metadata": {},
     "output_type": "execute_result"
    }
   ],
   "source": [
    "importlib.reload(cnn)"
   ]
  },
  {
   "cell_type": "code",
   "execution_count": 5,
   "metadata": {},
   "outputs": [],
   "source": [
    "device = torch.device(\"cuda\" if torch.cuda.is_available() else \"cpu\")"
   ]
  },
  {
   "cell_type": "code",
   "execution_count": 6,
   "metadata": {},
   "outputs": [],
   "source": [
    "real_wakes = np.load(\"Data\\\\Wake data\\\\confirmed_wakes.npy\")\n",
    "generated_wakes = np.load(\"Data\\\\Wake data\\\\generated_wakes.npy\")\n",
    "not_wakes = np.load(\"Data\\\\Wake data\\\\negative_day_samples.npy\")"
   ]
  },
  {
   "cell_type": "code",
   "execution_count": 7,
   "metadata": {
    "scrolled": true
   },
   "outputs": [],
   "source": [
    "real_wakes = real_wakes[:,:,:-1,:]\n",
    "not_wakes = not_wakes[:,:,:-1,:]"
   ]
  },
  {
   "cell_type": "code",
   "execution_count": 8,
   "metadata": {},
   "outputs": [],
   "source": [
    "train_real, test_real = train_test_split(real_wakes, test_size=0.2, random_state=4)\n",
    "train_gen, test_gen = train_test_split(generated_wakes, test_size=0.08, random_state=4)\n",
    "train_neg, test_neg = train_test_split(not_wakes, test_size = 0.06, random_state = 4)"
   ]
  },
  {
   "cell_type": "code",
   "execution_count": 9,
   "metadata": {},
   "outputs": [],
   "source": [
    "test_pos = np.append(test_real, test_gen, axis = 0)\n",
    "train_pos = np.append(train_real, train_gen, axis = 0)\n",
    "test_x = np.append(test_pos, test_neg, axis = 0)\n",
    "train_x = np.append(train_pos, train_neg, axis = 0)\n",
    "test_pos_y = np.concatenate((np.ones(test_pos.shape[0]).reshape(-1,1), np.zeros(test_pos.shape[0]).reshape(-1,1)), axis = 1)\n",
    "test_neg_y = np.concatenate((np.zeros(test_neg.shape[0]).reshape(-1,1), np.ones(test_neg.shape[0]).reshape(-1,1)), axis = 1)\n",
    "train_pos_y = np.concatenate((np.ones(train_pos.shape[0]).reshape(-1,1), np.zeros(train_pos.shape[0]).reshape(-1,1)), axis = 1)\n",
    "train_neg_y = np.concatenate((np.zeros(train_neg.shape[0]).reshape(-1,1), np.ones(train_neg.shape[0]).reshape(-1,1)), axis = 1)\n",
    "test_y = np.append(test_pos_y, test_neg_y, axis = 0)\n",
    "train_y = np.append(train_pos_y, train_neg_y, axis = 0)"
   ]
  },
  {
   "cell_type": "code",
   "execution_count": 10,
   "metadata": {},
   "outputs": [],
   "source": [
    "train_dataset = TensorDataset(torch.Tensor(train_x), torch.Tensor(train_y))\n",
    "test_dataset = TensorDataset(torch.Tensor(test_x), torch.Tensor(test_y))"
   ]
  },
  {
   "cell_type": "code",
   "execution_count": 11,
   "metadata": {},
   "outputs": [
    {
     "data": {
      "text/plain": [
       "torch.Size([118, 4, 28, 60])"
      ]
     },
     "execution_count": 11,
     "metadata": {},
     "output_type": "execute_result"
    }
   ],
   "source": [
    "test_dataset.tensors[0].shape"
   ]
  },
  {
   "cell_type": "code",
   "execution_count": 12,
   "metadata": {},
   "outputs": [
    {
     "data": {
      "text/plain": [
       "torch.Size([118, 2])"
      ]
     },
     "execution_count": 12,
     "metadata": {},
     "output_type": "execute_result"
    }
   ],
   "source": [
    "test_dataset.tensors[1].shape"
   ]
  },
  {
   "cell_type": "code",
   "execution_count": 52,
   "metadata": {},
   "outputs": [],
   "source": [
    "def train_cnn(model, train_data, test_data, num_epochs=5, batch_size=5, learning_rate=1e-3):\n",
    "    model = model.to(device)\n",
    "    torch.manual_seed(0)\n",
    "    criterion = nn.BCELoss()\n",
    "    optimizer = torch.optim.Adam(model.parameters(), lr=learning_rate, weight_decay=1e-5)\n",
    "    train_loader = DataLoader(train_data, shuffle=True, batch_size=batch_size, num_workers=0, drop_last=True)\n",
    "    X_val, y_val = test_data.tensors[0].to(device), test_data.tensors[1].to(device)\n",
    "    train_losses = []\n",
    "    val_losses = []\n",
    "    val_accs = []\n",
    "    train_accs= []\n",
    "    for epoch in range(num_epochs):\n",
    "        total_loss = []\n",
    "        batch_accs = []\n",
    "        for i, (X, y) in enumerate(train_loader):\n",
    "            X = X.to(device)\n",
    "            y = y.to(device)\n",
    "            pred = model(X)\n",
    "            loss = criterion(pred, y)\n",
    "            loss.backward()\n",
    "            optimizer.step()\n",
    "            optimizer.zero_grad()\n",
    "            train_pred_label = 1 - torch.argmax(pred, dim = 1).cpu().detach().numpy()\n",
    "            train_true_label = 1 - torch.argmax(y, dim = 1).cpu().detach().numpy()\n",
    "            batch_acc = accuracy_score(train_true_label, train_pred_label)\n",
    "            batch_accs.append(batch_acc)\n",
    "            total_loss.append(loss.item())\n",
    "            \n",
    "        val_pred = model(X_val)\n",
    "        val_pred_label = 1 - torch.argmax(val_pred, dim = 1).cpu().detach().numpy()\n",
    "        val_true_label = 1 - torch.argmax(y_val, dim = 1).cpu().detach().numpy()\n",
    "        val_loss = criterion(val_pred, y_val).item()\n",
    "        train_loss = sum(total_loss)/len(total_loss)\n",
    "        train_acc = sum(batch_accs)/len(batch_accs)\n",
    "        val_acc = accuracy_score(val_true_label, val_pred_label)\n",
    "        print('Epoch:{}, Loss:{:.4f}, Val Loss:{:.4f}, Train Acc:{:4f}, Val Acc:{:.4f}'.format(epoch+1, train_loss,\n",
    "                                                                                               val_loss, train_acc, val_acc))\n",
    "        train_losses.append(train_loss)\n",
    "        val_losses.append(val_loss)\n",
    "        val_accs.append(val_acc)\n",
    "        train_accs.append(train_acc)\n",
    "    return train_losses, val_losses, train_accs, val_accs"
   ]
  },
  {
   "cell_type": "markdown",
   "metadata": {},
   "source": [
    "## Test CNN"
   ]
  },
  {
   "cell_type": "code",
   "execution_count": 53,
   "metadata": {},
   "outputs": [
    {
     "name": "stdout",
     "output_type": "stream",
     "text": [
      "Epoch:1, Loss:0.6326, Val Loss:0.7403, Train Acc:0.679710, Val Acc:0.5085\n",
      "Epoch:2, Loss:0.6194, Val Loss:0.7561, Train Acc:0.680435, Val Acc:0.5085\n",
      "Epoch:3, Loss:0.5539, Val Loss:0.6919, Train Acc:0.679710, Val Acc:0.5085\n",
      "Epoch:4, Loss:0.4560, Val Loss:0.5924, Train Acc:0.777536, Val Acc:0.7627\n",
      "Epoch:5, Loss:0.3858, Val Loss:0.6517, Train Acc:0.882609, Val Acc:0.7542\n",
      "Epoch:6, Loss:0.3161, Val Loss:0.6582, Train Acc:0.897826, Val Acc:0.7627\n",
      "Epoch:7, Loss:0.2870, Val Loss:0.5220, Train Acc:0.906522, Val Acc:0.7966\n",
      "Epoch:8, Loss:0.2639, Val Loss:0.6267, Train Acc:0.918116, Val Acc:0.7373\n",
      "Epoch:9, Loss:0.2334, Val Loss:0.6559, Train Acc:0.925362, Val Acc:0.7712\n",
      "Epoch:10, Loss:0.2358, Val Loss:0.6767, Train Acc:0.919565, Val Acc:0.7881\n",
      "Epoch:11, Loss:0.2057, Val Loss:0.5986, Train Acc:0.937681, Val Acc:0.7797\n",
      "Epoch:12, Loss:0.1937, Val Loss:0.5534, Train Acc:0.937681, Val Acc:0.8051\n",
      "Epoch:13, Loss:0.1766, Val Loss:0.6646, Train Acc:0.937681, Val Acc:0.8136\n",
      "Epoch:14, Loss:0.1716, Val Loss:0.3636, Train Acc:0.941304, Val Acc:0.8475\n",
      "Epoch:15, Loss:0.1588, Val Loss:0.4186, Train Acc:0.945652, Val Acc:0.8220\n",
      "Epoch:16, Loss:0.1414, Val Loss:0.3762, Train Acc:0.951449, Val Acc:0.8559\n",
      "Epoch:17, Loss:0.1353, Val Loss:0.5036, Train Acc:0.958696, Val Acc:0.8220\n",
      "Epoch:18, Loss:0.1341, Val Loss:0.3627, Train Acc:0.951449, Val Acc:0.8729\n",
      "Epoch:19, Loss:0.1450, Val Loss:0.5167, Train Acc:0.953623, Val Acc:0.8475\n",
      "Epoch:20, Loss:0.1341, Val Loss:0.4871, Train Acc:0.953623, Val Acc:0.8305\n",
      "Epoch:21, Loss:0.1312, Val Loss:0.3826, Train Acc:0.957971, Val Acc:0.8729\n",
      "Epoch:22, Loss:0.1074, Val Loss:0.4182, Train Acc:0.961594, Val Acc:0.8729\n",
      "Epoch:23, Loss:0.1334, Val Loss:0.3551, Train Acc:0.947101, Val Acc:0.8983\n",
      "Epoch:24, Loss:0.0961, Val Loss:0.4308, Train Acc:0.968116, Val Acc:0.8729\n",
      "Epoch:25, Loss:0.1182, Val Loss:0.3456, Train Acc:0.952174, Val Acc:0.8729\n",
      "Epoch:26, Loss:0.0929, Val Loss:0.3529, Train Acc:0.968116, Val Acc:0.8983\n",
      "Epoch:27, Loss:0.0935, Val Loss:0.3858, Train Acc:0.970290, Val Acc:0.8814\n",
      "Epoch:28, Loss:0.0843, Val Loss:0.3856, Train Acc:0.970290, Val Acc:0.8983\n",
      "Epoch:29, Loss:0.0888, Val Loss:0.3971, Train Acc:0.973913, Val Acc:0.8983\n",
      "Epoch:30, Loss:0.0864, Val Loss:0.3744, Train Acc:0.968116, Val Acc:0.9068\n",
      "Epoch:31, Loss:0.0879, Val Loss:0.4487, Train Acc:0.968841, Val Acc:0.8898\n",
      "Epoch:32, Loss:0.0829, Val Loss:0.5680, Train Acc:0.971014, Val Acc:0.8814\n",
      "Epoch:33, Loss:0.0806, Val Loss:0.4740, Train Acc:0.973913, Val Acc:0.8898\n",
      "Epoch:34, Loss:0.0632, Val Loss:0.4200, Train Acc:0.979710, Val Acc:0.8898\n",
      "Epoch:35, Loss:0.0685, Val Loss:0.3753, Train Acc:0.978261, Val Acc:0.8983\n",
      "Epoch:36, Loss:0.0706, Val Loss:0.4471, Train Acc:0.978261, Val Acc:0.8983\n",
      "Epoch:37, Loss:0.0591, Val Loss:0.7100, Train Acc:0.978986, Val Acc:0.8644\n",
      "Epoch:38, Loss:0.0576, Val Loss:0.6190, Train Acc:0.979710, Val Acc:0.8644\n",
      "Epoch:39, Loss:0.0846, Val Loss:0.4922, Train Acc:0.972464, Val Acc:0.8983\n",
      "Epoch:40, Loss:0.0532, Val Loss:0.5514, Train Acc:0.981884, Val Acc:0.8898\n",
      "Epoch:41, Loss:0.0748, Val Loss:0.4794, Train Acc:0.973913, Val Acc:0.8983\n",
      "Epoch:42, Loss:0.0475, Val Loss:0.7463, Train Acc:0.984058, Val Acc:0.9068\n",
      "Epoch:43, Loss:0.0461, Val Loss:0.8893, Train Acc:0.984783, Val Acc:0.8898\n",
      "Epoch:44, Loss:0.0554, Val Loss:0.6383, Train Acc:0.983333, Val Acc:0.8475\n",
      "Epoch:45, Loss:0.0533, Val Loss:0.5977, Train Acc:0.981884, Val Acc:0.9153\n",
      "Epoch:46, Loss:0.0357, Val Loss:0.6971, Train Acc:0.991304, Val Acc:0.8983\n",
      "Epoch:47, Loss:0.0435, Val Loss:0.8050, Train Acc:0.984058, Val Acc:0.8898\n",
      "Epoch:48, Loss:0.0410, Val Loss:0.6134, Train Acc:0.984783, Val Acc:0.8898\n",
      "Epoch:49, Loss:0.0583, Val Loss:0.6336, Train Acc:0.982609, Val Acc:0.8898\n",
      "Epoch:50, Loss:0.0237, Val Loss:1.0670, Train Acc:0.992754, Val Acc:0.8898\n",
      "Epoch:51, Loss:0.0417, Val Loss:0.7554, Train Acc:0.986232, Val Acc:0.8814\n",
      "Epoch:52, Loss:0.0261, Val Loss:0.6893, Train Acc:0.991304, Val Acc:0.9068\n",
      "Epoch:53, Loss:0.0240, Val Loss:0.7371, Train Acc:0.989855, Val Acc:0.8983\n",
      "Epoch:54, Loss:0.0557, Val Loss:0.6112, Train Acc:0.978986, Val Acc:0.8644\n",
      "Epoch:55, Loss:0.0572, Val Loss:0.8455, Train Acc:0.984783, Val Acc:0.8729\n",
      "Epoch:56, Loss:0.0263, Val Loss:0.7338, Train Acc:0.991304, Val Acc:0.9068\n",
      "Epoch:57, Loss:0.0178, Val Loss:0.6269, Train Acc:0.992754, Val Acc:0.9153\n",
      "Epoch:58, Loss:0.0192, Val Loss:0.9003, Train Acc:0.994928, Val Acc:0.8898\n",
      "Epoch:59, Loss:0.0172, Val Loss:1.1910, Train Acc:0.993478, Val Acc:0.8898\n",
      "Epoch:60, Loss:0.0083, Val Loss:0.8972, Train Acc:0.997826, Val Acc:0.8898\n",
      "Epoch:61, Loss:0.0076, Val Loss:1.2217, Train Acc:0.997826, Val Acc:0.8898\n",
      "Epoch:62, Loss:0.0441, Val Loss:0.6751, Train Acc:0.983333, Val Acc:0.9153\n",
      "Epoch:63, Loss:0.0105, Val Loss:0.8838, Train Acc:0.996377, Val Acc:0.9068\n",
      "Epoch:64, Loss:0.0356, Val Loss:0.8311, Train Acc:0.987681, Val Acc:0.9068\n",
      "Epoch:65, Loss:0.0173, Val Loss:0.9208, Train Acc:0.996377, Val Acc:0.9068\n",
      "Epoch:66, Loss:0.0037, Val Loss:1.0821, Train Acc:1.000000, Val Acc:0.9068\n",
      "Epoch:67, Loss:0.0531, Val Loss:0.7077, Train Acc:0.982609, Val Acc:0.9068\n",
      "Epoch:68, Loss:0.0189, Val Loss:0.6998, Train Acc:0.992029, Val Acc:0.9153\n",
      "Epoch:69, Loss:0.0091, Val Loss:0.5045, Train Acc:0.996377, Val Acc:0.9492\n",
      "Epoch:70, Loss:0.0215, Val Loss:0.9291, Train Acc:0.993478, Val Acc:0.9237\n",
      "Epoch:71, Loss:0.0416, Val Loss:0.8198, Train Acc:0.986232, Val Acc:0.9068\n",
      "Epoch:72, Loss:0.0058, Val Loss:0.7340, Train Acc:0.999275, Val Acc:0.9153\n",
      "Epoch:73, Loss:0.0026, Val Loss:0.8014, Train Acc:1.000000, Val Acc:0.9237\n",
      "Epoch:74, Loss:0.0037, Val Loss:0.9423, Train Acc:0.999275, Val Acc:0.9153\n",
      "Epoch:75, Loss:0.0129, Val Loss:0.8763, Train Acc:0.995652, Val Acc:0.9068\n",
      "Epoch:76, Loss:0.0049, Val Loss:1.2085, Train Acc:0.998551, Val Acc:0.8983\n",
      "Epoch:77, Loss:0.0023, Val Loss:1.2291, Train Acc:1.000000, Val Acc:0.8983\n",
      "Epoch:78, Loss:0.0013, Val Loss:1.2306, Train Acc:1.000000, Val Acc:0.9153\n",
      "Epoch:79, Loss:0.0009, Val Loss:1.2979, Train Acc:1.000000, Val Acc:0.8983\n",
      "Epoch:80, Loss:0.0131, Val Loss:1.1097, Train Acc:0.995652, Val Acc:0.9068\n",
      "Epoch:81, Loss:0.0258, Val Loss:0.9719, Train Acc:0.987681, Val Acc:0.9153\n",
      "Epoch:82, Loss:0.0089, Val Loss:1.0644, Train Acc:0.995652, Val Acc:0.8983\n",
      "Epoch:83, Loss:0.0028, Val Loss:1.1390, Train Acc:0.999275, Val Acc:0.8983\n",
      "Epoch:84, Loss:0.0017, Val Loss:0.8497, Train Acc:1.000000, Val Acc:0.9153\n",
      "Epoch:85, Loss:0.0041, Val Loss:1.0761, Train Acc:0.998551, Val Acc:0.9322\n",
      "Epoch:86, Loss:0.0147, Val Loss:1.2330, Train Acc:0.996377, Val Acc:0.8983\n",
      "Epoch:87, Loss:0.0009, Val Loss:1.4814, Train Acc:1.000000, Val Acc:0.8983\n",
      "Epoch:88, Loss:0.0006, Val Loss:1.3295, Train Acc:1.000000, Val Acc:0.9237\n",
      "Epoch:89, Loss:0.0006, Val Loss:1.1564, Train Acc:1.000000, Val Acc:0.9068\n",
      "Epoch:90, Loss:0.0010, Val Loss:1.9275, Train Acc:1.000000, Val Acc:0.8644\n",
      "Epoch:91, Loss:0.0307, Val Loss:1.2607, Train Acc:0.988406, Val Acc:0.8898\n",
      "Epoch:92, Loss:0.0078, Val Loss:1.2329, Train Acc:0.997101, Val Acc:0.9068\n",
      "Epoch:93, Loss:0.0121, Val Loss:1.3379, Train Acc:0.996377, Val Acc:0.8898\n",
      "Epoch:94, Loss:0.0050, Val Loss:1.3641, Train Acc:0.998551, Val Acc:0.9153\n",
      "Epoch:95, Loss:0.0063, Val Loss:1.0493, Train Acc:0.998551, Val Acc:0.9068\n",
      "Epoch:96, Loss:0.0010, Val Loss:1.2962, Train Acc:1.000000, Val Acc:0.9068\n",
      "Epoch:97, Loss:0.0014, Val Loss:1.1856, Train Acc:0.999275, Val Acc:0.9237\n",
      "Epoch:98, Loss:0.0003, Val Loss:1.5241, Train Acc:1.000000, Val Acc:0.9153\n",
      "Epoch:99, Loss:0.0022, Val Loss:1.4259, Train Acc:0.998551, Val Acc:0.8814\n",
      "Epoch:100, Loss:0.0507, Val Loss:0.8171, Train Acc:0.982609, Val Acc:0.9153\n"
     ]
    }
   ],
   "source": [
    "cnn_model = None\n",
    "cnn_model = cnn.MNISTCNN()\n",
    "train_losses, val_losses, train_accs, val_accs = train_cnn(cnn_model, train_dataset, test_dataset, num_epochs = 100, learning_rate=1e-4)"
   ]
  },
  {
   "cell_type": "code",
   "execution_count": 57,
   "metadata": {},
   "outputs": [
    {
     "data": {
      "image/png": "[encoded data removed]",
      "text/plain": [
       "<Figure size 720x432 with 1 Axes>"
      ]
     },
     "metadata": {
      "needs_background": "light"
     },
     "output_type": "display_data"
    }
   ],
   "source": [
    "plt.figure(figsize=(10,6))\n",
    "plt.plot(train_losses, label = 'Train loss')\n",
    "plt.plot(val_losses, label = 'Validation loss')\n",
    "plt.legend(loc = 'upper left')\n",
    "plt.xlabel('Epoch')\n",
    "plt.ylabel('Binary Cross-entropy loss')\n",
    "plt.show()"
   ]
  },
  {
   "cell_type": "code",
   "execution_count": 58,
   "metadata": {},
   "outputs": [
    {
     "data": {
      "image/png": "[encoded data removed]",
      "text/plain": [
       "<Figure size 720x432 with 1 Axes>"
      ]
     },
     "metadata": {
      "needs_background": "light"
     },
     "output_type": "display_data"
    }
   ],
   "source": [
    "plt.figure(figsize=(10,6))\n",
    "plt.plot(train_accs, label = 'Train_accuracy')\n",
    "plt.plot(val_accs, label = 'Validation accuracy')\n",
    "plt.legend(loc = 'upper left')\n",
    "plt.xlabel('Epoch')\n",
    "plt.ylabel('Accuracy')\n",
    "plt.show()"
   ]
  },
  {
   "cell_type": "markdown",
   "metadata": {},
   "source": [
    "## Main CNN"
   ]
  },
  {
   "cell_type": "code",
   "execution_count": 62,
   "metadata": {},
   "outputs": [
    {
     "name": "stdout",
     "output_type": "stream",
     "text": [
      "Epoch:1, Loss:0.6330, Val Loss:0.7332, Train Acc:0.679710, Val Acc:0.5085\n",
      "Epoch:2, Loss:0.6189, Val Loss:0.7539, Train Acc:0.680435, Val Acc:0.5085\n",
      "Epoch:3, Loss:0.5596, Val Loss:0.6919, Train Acc:0.679710, Val Acc:0.5085\n",
      "Epoch:4, Loss:0.4843, Val Loss:0.6446, Train Acc:0.757971, Val Acc:0.7373\n",
      "Epoch:5, Loss:0.4461, Val Loss:0.7838, Train Acc:0.847826, Val Acc:0.6864\n",
      "Epoch:6, Loss:0.3242, Val Loss:0.7099, Train Acc:0.900725, Val Acc:0.7373\n",
      "Epoch:7, Loss:0.3665, Val Loss:0.5716, Train Acc:0.853623, Val Acc:0.7458\n",
      "Epoch:8, Loss:0.2907, Val Loss:0.6393, Train Acc:0.910145, Val Acc:0.7458\n",
      "Epoch:9, Loss:0.2798, Val Loss:0.6159, Train Acc:0.909420, Val Acc:0.7542\n",
      "Epoch:10, Loss:0.2850, Val Loss:0.6859, Train Acc:0.897826, Val Acc:0.7373\n",
      "Epoch:11, Loss:0.2606, Val Loss:0.6766, Train Acc:0.914493, Val Acc:0.7458\n",
      "Epoch:12, Loss:0.2453, Val Loss:0.8878, Train Acc:0.921739, Val Acc:0.7034\n",
      "Epoch:13, Loss:0.2389, Val Loss:0.9040, Train Acc:0.924638, Val Acc:0.7288\n",
      "Epoch:14, Loss:0.2430, Val Loss:0.6369, Train Acc:0.912319, Val Acc:0.6525\n",
      "Epoch:15, Loss:0.2312, Val Loss:0.6038, Train Acc:0.927536, Val Acc:0.8051\n",
      "Epoch:16, Loss:0.2089, Val Loss:0.7839, Train Acc:0.933333, Val Acc:0.7373\n",
      "Epoch:17, Loss:0.1882, Val Loss:0.5089, Train Acc:0.942754, Val Acc:0.8136\n",
      "Epoch:18, Loss:0.1859, Val Loss:0.4307, Train Acc:0.939130, Val Acc:0.8305\n",
      "Epoch:19, Loss:0.1741, Val Loss:0.5162, Train Acc:0.942029, Val Acc:0.8220\n",
      "Epoch:20, Loss:0.1670, Val Loss:0.6406, Train Acc:0.952174, Val Acc:0.8136\n"
     ]
    }
   ],
   "source": [
    "cnn_model = None\n",
    "cnn_model = cnn.MNISTCNN()\n",
    "metrics_cnn = train_cnn(cnn_model, train_dataset, test_dataset, num_epochs = 20, learning_rate=1e-4)"
   ]
  },
  {
   "cell_type": "raw",
   "metadata": {},
   "source": []
  },
  {
   "cell_type": "markdown",
   "metadata": {},
   "source": [
    "plt.figure(figsize=(10,6))\n",
    "plt.plot(train_losses, label = 'Train loss')\n",
    "plt.plot(val_losses, label = 'Validation loss')\n",
    "plt.legend(loc = 'upper left')\n",
    "plt.xlabel('Epoch')\n",
    "plt.ylabel('Binary Cross-entropy loss')\n",
    "plt.show()"
   ]
  },
  {
   "cell_type": "code",
   "execution_count": null,
   "metadata": {},
   "outputs": [],
   "source": [
    "plt.figure(figsize=(10,6))\n",
    "plt.plot(train_accs, label = 'Train_accuracy')\n",
    "plt.plot(val_accs, label = 'Validation accuracy')\n",
    "plt.legend(loc = 'upper left')\n",
    "plt.xlabel('Epoch')\n",
    "plt.ylabel('Accuracy')\n",
    "plt.show()"
   ]
  },
  {
   "cell_type": "code",
   "execution_count": null,
   "metadata": {},
   "outputs": [],
   "source": []
  },
  {
   "cell_type": "code",
   "execution_count": null,
   "metadata": {},
   "outputs": [],
   "source": []
  }
 ],
 "metadata": {
  "kernelspec": {
   "display_name": "Python 3",
   "language": "python",
   "name": "python3"
  },
  "language_info": {
   "codemirror_mode": {
    "name": "ipython",
    "version": 3
   },
   "file_extension": ".py",
   "mimetype": "text/x-python",
   "name": "python",
   "nbconvert_exporter": "python",
   "pygments_lexer": "ipython3",
   "version": "3.7.3"
  }
 },
 "nbformat": 4,
 "nbformat_minor": 2
}
