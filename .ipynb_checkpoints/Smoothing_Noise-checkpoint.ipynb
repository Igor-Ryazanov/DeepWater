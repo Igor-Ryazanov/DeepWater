{
 "cells": [
  {
   "cell_type": "code",
   "execution_count": 1,
   "metadata": {},
   "outputs": [],
   "source": [
    "import numpy as np\n",
    "import Scripts.cifar_resnet as rn\n",
    "import Scripts.wake_processing as wp\n",
    "import importlib\n",
    "import Scripts.autoencoder as ae\n",
    "from sklearn.model_selection import train_test_split\n",
    "import torch.nn as nn\n",
    "import torch\n",
    "from torch.utils.data import DataLoader, TensorDataset\n",
    "from sklearn.metrics import accuracy_score\n",
    "import matplotlib.pyplot as plt\n",
    "from tqdm import tqdm\n",
    "from collections import Counter\n",
    "from math import ceil\n",
    "%matplotlib inline"
   ]
  },
  {
   "cell_type": "code",
   "execution_count": 2,
   "metadata": {},
   "outputs": [
    {
     "data": {
      "text/plain": [
       "<module 'Scripts.wake_processing' from 'E:\\\\Studies\\\\Deep Water\\\\DeepWater\\\\Scripts\\\\wake_processing.py'>"
      ]
     },
     "execution_count": 2,
     "metadata": {},
     "output_type": "execute_result"
    }
   ],
   "source": [
    "importlib.reload(rn)\n",
    "importlib.reload(wp)"
   ]
  },
  {
   "cell_type": "code",
   "execution_count": 3,
   "metadata": {},
   "outputs": [],
   "source": [
    "RS = 1"
   ]
  },
  {
   "cell_type": "markdown",
   "metadata": {},
   "source": [
    "## Training Data"
   ]
  },
  {
   "cell_type": "code",
   "execution_count": 4,
   "metadata": {},
   "outputs": [],
   "source": [
    "real_wakes_data = np.load(\"Data\\\\Wake data\\\\confirmed_wakes.npy\")\n",
    "generated_wakes = np.load(\"Data\\\\Wake data\\\\generated_wakes_1000.npy\")\n",
    "not_wakes_day_data = np.load(\"Data\\\\Wake data\\\\negative_samples_3000_day.npy\")\n",
    "not_wakes_all_data = np.load(\"Data\\\\Wake data\\\\negative_samples_3000.npy\")\n",
    "real_wakes = real_wakes_data[:,:,:-1,:]\n",
    "not_wakes = not_wakes_day_data[:,:,:-1,:]\n",
    "not_wakes_all = not_wakes_day_data[:,:,:-1,:]"
   ]
  },
  {
   "cell_type": "markdown",
   "metadata": {},
   "source": [
    "## Train function"
   ]
  },
  {
   "cell_type": "code",
   "execution_count": 5,
   "metadata": {},
   "outputs": [],
   "source": [
    "def train_rn(model, train_data, test_data, num_epochs=5, batch_size=5, learning_rate=1e-3):\n",
    "    model = model.to(device)\n",
    "    torch.manual_seed(0)\n",
    "    criterion = nn.BCELoss()\n",
    "    optimizer = torch.optim.Adam(model.parameters(), lr=learning_rate, weight_decay=1e-5)\n",
    "    train_loader = DataLoader(train_data, shuffle=True, batch_size=batch_size, num_workers=0, drop_last=True)\n",
    "    X_val, y_val = test_data.tensors[0].to(device), test_data.tensors[1].to(device)\n",
    "    train_losses = []\n",
    "    val_losses = []\n",
    "    val_accs = []\n",
    "    train_accs= []\n",
    "    for epoch in range(num_epochs):\n",
    "        total_loss = []\n",
    "        batch_accs = []\n",
    "        for i, (X, y) in enumerate(train_loader):\n",
    "            X = X.to(device)\n",
    "            y = y.to(device)\n",
    "            pred = model(X)\n",
    "            loss = criterion(pred, y)\n",
    "            loss.backward()\n",
    "            optimizer.step()\n",
    "            optimizer.zero_grad()\n",
    "            train_pred_label = 1 - torch.argmax(pred, dim = 1).cpu().detach().numpy()\n",
    "            train_true_label = 1 - torch.argmax(y, dim = 1).cpu().detach().numpy()\n",
    "            batch_acc = accuracy_score(train_true_label, train_pred_label)\n",
    "            batch_accs.append(batch_acc)\n",
    "            total_loss.append(loss.item())\n",
    "            \n",
    "        val_pred = model(X_val)\n",
    "        val_pred_label = 1 - torch.argmax(val_pred, dim = 1).cpu().detach().numpy()\n",
    "        val_true_label = 1 - torch.argmax(y_val, dim = 1).cpu().detach().numpy()\n",
    "        val_loss = criterion(val_pred, y_val).item()\n",
    "        train_loss = sum(total_loss)/len(total_loss)\n",
    "        train_acc = sum(batch_accs)/len(batch_accs)\n",
    "        val_acc = accuracy_score(val_true_label, val_pred_label)\n",
    "        print('Epoch:{}, Loss:{:.4f}, Val Loss:{:.4f}, Train Acc:{:4f}, Val Acc:{:.4f}'.format(epoch+1, train_loss,\n",
    "                                                                                               val_loss, train_acc, val_acc))\n",
    "        train_losses.append(train_loss)\n",
    "        val_losses.append(val_loss)\n",
    "        val_accs.append(val_acc)\n",
    "        train_accs.append(train_acc)\n",
    "    return train_losses, val_losses, train_accs, val_accs"
   ]
  },
  {
   "cell_type": "code",
   "execution_count": 15,
   "metadata": {},
   "outputs": [],
   "source": [
    "def smooth_prediction(x, net, sigma, num = 100, batch_size = 10):\n",
    "    net.eval()\n",
    "    x = torch.tensor(x).float()\n",
    "    with torch.no_grad():\n",
    "        counts = np.zeros(2, dtype=int)\n",
    "        for _ in range(ceil(num / batch_size)):\n",
    "            this_batch_size = min(batch_size, num)\n",
    "            num -= this_batch_size\n",
    "            batch = x.repeat((this_batch_size, 1, 1, 1)).to(device)\n",
    "            noise = torch.randn_like(batch, device=device) * sigma\n",
    "            noisy_batch = batch + noise\n",
    "            b_max = noisy_batch.max()\n",
    "            b_min = noisy_batch.min()\n",
    "            noisy_batch = (noisy_batch - b_min)/(b_max-b_min)\n",
    "            predictions = net(noisy_batch).argmax(1)   \n",
    "            counts_update = np.zeros(2, dtype=int)\n",
    "            for idx in predictions.cpu().numpy():\n",
    "                counts[idx] += 1\n",
    "            counts += counts_update\n",
    "        pred = counts.argmax() \n",
    "    return pred"
   ]
  },
  {
   "cell_type": "code",
   "execution_count": 6,
   "metadata": {},
   "outputs": [],
   "source": [
    "def make_plots(train_losses, val_losses, train_accs, val_accs):\n",
    "    plt.figure(figsize=(10,6))\n",
    "    plt.plot(train_losses, label = 'Train loss')\n",
    "    plt.plot(val_losses, label = 'Validation loss')\n",
    "    plt.legend(loc = 'upper left')\n",
    "    plt.xlabel('Epoch')\n",
    "    plt.ylabel('Binary Cross-entropy loss')\n",
    "    plt.show()\n",
    "    plt.figure(figsize=(10,6))\n",
    "    plt.plot(train_accs, label = 'Train accuracy')\n",
    "    plt.plot(val_accs, label = 'Validation accuracy')\n",
    "    plt.legend(loc = 'upper left')\n",
    "    plt.xlabel('Epoch')\n",
    "    plt.ylabel('Accuracy')\n",
    "    plt.show()"
   ]
  },
  {
   "cell_type": "code",
   "execution_count": 7,
   "metadata": {},
   "outputs": [],
   "source": [
    "device = torch.device(\"cuda\" if torch.cuda.is_available() else \"cpu\")\n",
    "num_epochs = 25"
   ]
  },
  {
   "cell_type": "markdown",
   "metadata": {},
   "source": [
    "## Experiment: Randomized Smoothing model\n",
    "### Training: 500 positive (113 real + 387 generated) and 500 negative \n",
    "### Test: 75 positive (29 real + 46 generated) and 75 negative"
   ]
  },
  {
   "cell_type": "code",
   "execution_count": 8,
   "metadata": {},
   "outputs": [],
   "source": [
    "train_real, test_real = train_test_split(real_wakes, test_size=0.2, random_state=RS)\n",
    "train_gen, test_gen = train_test_split(generated_wakes, train_size = 0.387, test_size=0.046, random_state=RS)\n",
    "train_neg, test_neg = train_test_split(not_wakes, train_size = 1/6, test_size = 75/3000, random_state = RS)"
   ]
  },
  {
   "cell_type": "code",
   "execution_count": 9,
   "metadata": {},
   "outputs": [],
   "source": [
    "test_pos = np.append(test_real, test_gen, axis = 0)\n",
    "train_pos = np.append(train_real, train_gen, axis = 0)\n",
    "test_x = np.append(test_pos, test_neg, axis = 0)\n",
    "train_x = np.append(train_pos, train_neg, axis = 0)\n",
    "test_pos_y = np.concatenate((np.ones(test_pos.shape[0]).reshape(-1,1), np.zeros(test_pos.shape[0]).reshape(-1,1)), axis = 1)\n",
    "test_neg_y = np.concatenate((np.zeros(test_neg.shape[0]).reshape(-1,1), np.ones(test_neg.shape[0]).reshape(-1,1)), axis = 1)\n",
    "train_pos_y = np.concatenate((np.ones(train_pos.shape[0]).reshape(-1,1), np.zeros(train_pos.shape[0]).reshape(-1,1)), axis = 1)\n",
    "train_neg_y = np.concatenate((np.zeros(train_neg.shape[0]).reshape(-1,1), np.ones(train_neg.shape[0]).reshape(-1,1)), axis = 1)\n",
    "test_y = np.append(test_pos_y, test_neg_y, axis = 0)\n",
    "train_y = np.append(train_pos_y, train_neg_y, axis = 0)"
   ]
  },
  {
   "cell_type": "code",
   "execution_count": 10,
   "metadata": {},
   "outputs": [],
   "source": [
    "train_dataset = TensorDataset(torch.Tensor(train_x), torch.Tensor(train_y))\n",
    "test_dataset = TensorDataset(torch.Tensor(test_x), torch.Tensor(test_y))"
   ]
  },
  {
   "cell_type": "code",
   "execution_count": 11,
   "metadata": {},
   "outputs": [
    {
     "name": "stdout",
     "output_type": "stream",
     "text": [
      "Epoch:1, Loss:0.2951, Val Loss:0.1834, Train Acc:0.896000, Val Acc:0.9533\n",
      "Epoch:2, Loss:0.1450, Val Loss:0.2220, Train Acc:0.952000, Val Acc:0.9400\n",
      "Epoch:3, Loss:0.0646, Val Loss:0.2132, Train Acc:0.978000, Val Acc:0.9533\n",
      "Epoch:4, Loss:0.0229, Val Loss:0.2262, Train Acc:0.994000, Val Acc:0.9400\n",
      "Epoch:5, Loss:0.0240, Val Loss:0.2291, Train Acc:0.992000, Val Acc:0.9400\n",
      "Epoch:6, Loss:0.0235, Val Loss:0.2749, Train Acc:0.994000, Val Acc:0.9467\n",
      "Epoch:7, Loss:0.0655, Val Loss:0.2005, Train Acc:0.976000, Val Acc:0.9400\n",
      "Epoch:8, Loss:0.0323, Val Loss:0.1659, Train Acc:0.989000, Val Acc:0.9333\n",
      "Epoch:9, Loss:0.0051, Val Loss:0.2778, Train Acc:0.999000, Val Acc:0.9333\n",
      "Epoch:10, Loss:0.0013, Val Loss:0.1894, Train Acc:1.000000, Val Acc:0.9600\n",
      "Epoch:11, Loss:0.0022, Val Loss:0.2407, Train Acc:0.999000, Val Acc:0.9400\n",
      "Epoch:12, Loss:0.0005, Val Loss:0.2147, Train Acc:1.000000, Val Acc:0.9600\n",
      "Epoch:13, Loss:0.0003, Val Loss:0.2303, Train Acc:1.000000, Val Acc:0.9467\n",
      "Epoch:14, Loss:0.0002, Val Loss:0.2278, Train Acc:1.000000, Val Acc:0.9533\n",
      "Epoch:15, Loss:0.0002, Val Loss:0.2343, Train Acc:1.000000, Val Acc:0.9533\n",
      "Epoch:16, Loss:0.0001, Val Loss:0.2384, Train Acc:1.000000, Val Acc:0.9533\n",
      "Epoch:17, Loss:0.0001, Val Loss:0.2441, Train Acc:1.000000, Val Acc:0.9533\n",
      "Epoch:18, Loss:0.0001, Val Loss:0.2210, Train Acc:1.000000, Val Acc:0.9600\n",
      "Epoch:19, Loss:0.0001, Val Loss:0.2461, Train Acc:1.000000, Val Acc:0.9533\n",
      "Epoch:20, Loss:0.0001, Val Loss:0.2481, Train Acc:1.000000, Val Acc:0.9533\n",
      "Epoch:21, Loss:0.0001, Val Loss:0.2504, Train Acc:1.000000, Val Acc:0.9533\n",
      "Epoch:22, Loss:0.0001, Val Loss:0.2467, Train Acc:1.000000, Val Acc:0.9533\n",
      "Epoch:23, Loss:0.0001, Val Loss:0.2352, Train Acc:1.000000, Val Acc:0.9667\n",
      "Epoch:24, Loss:0.0000, Val Loss:0.2411, Train Acc:1.000000, Val Acc:0.9667\n",
      "Epoch:25, Loss:0.0000, Val Loss:0.2426, Train Acc:1.000000, Val Acc:0.9667\n"
     ]
    }
   ],
   "source": [
    "resnet_1 = None\n",
    "resnet_1 = rn.ResNet18()\n",
    "train_losses, val_losses, train_accs, val_accs = train_rn(resnet_1, train_dataset, test_dataset, num_epochs = num_epochs, learning_rate=1e-4)"
   ]
  },
  {
   "cell_type": "code",
   "execution_count": 12,
   "metadata": {},
   "outputs": [
    {
     "data": {
      "image/png": "[encoded data removed]",
      "text/plain": [
       "<Figure size 720x432 with 1 Axes>"
      ]
     },
     "metadata": {
      "needs_background": "light"
     },
     "output_type": "display_data"
    },
    {
     "data": {
      "image/png": "[encoded data removed]",
      "text/plain": [
       "<Figure size 720x432 with 1 Axes>"
      ]
     },
     "metadata": {
      "needs_background": "light"
     },
     "output_type": "display_data"
    }
   ],
   "source": [
    "make_plots(train_losses, val_losses, train_accs, val_accs)"
   ]
  },
  {
   "cell_type": "markdown",
   "metadata": {},
   "source": [
    "## Experiment: Smoothing with normal test data\n",
    "### Training: 500 positive (113 real + 387 generated) and 500 negative \n",
    "### Test: 75 positive (29 real + 46 generated) and 75 negative"
   ]
  },
  {
   "cell_type": "code",
   "execution_count": 25,
   "metadata": {},
   "outputs": [],
   "source": [
    "correct_predictions = test_y.argmax(1)"
   ]
  },
  {
   "cell_type": "code",
   "execution_count": 26,
   "metadata": {},
   "outputs": [
    {
     "name": "stdout",
     "output_type": "stream",
     "text": [
      "Sigma = 0.3, Test Accuracy: 0.5733\n"
     ]
    }
   ],
   "source": [
    "sigma = 0.3\n",
    "smooth_predictions = []\n",
    "for frame in test_x:\n",
    "    smooth_predictions.append(smooth_prediction(frame, resnet_1, sigma = sigma))\n",
    "smooth_predictions = np.array(smooth_predictions)\n",
    "print(\"Sigma = 0.3, Test Accuracy: {:.4}\".format(accuracy_score(correct_predictions, smooth_predictions)))"
   ]
  },
  {
   "cell_type": "code",
   "execution_count": 27,
   "metadata": {},
   "outputs": [
    {
     "name": "stdout",
     "output_type": "stream",
     "text": [
      "Sigma = 0.25, Test Accuracy: 0.6267\n"
     ]
    }
   ],
   "source": [
    "sigma = 0.25\n",
    "smooth_predictions = []\n",
    "for frame in test_x:\n",
    "    smooth_predictions.append(smooth_prediction(frame, resnet_1, sigma = sigma))\n",
    "smooth_predictions = np.array(smooth_predictions)\n",
    "print(\"Sigma = 0.25, Test Accuracy: {:.4}\".format(accuracy_score(correct_predictions, smooth_predictions)))"
   ]
  },
  {
   "cell_type": "code",
   "execution_count": 28,
   "metadata": {},
   "outputs": [
    {
     "name": "stdout",
     "output_type": "stream",
     "text": [
      "Sigma = 0.2, Test Accuracy: 0.7267\n"
     ]
    }
   ],
   "source": [
    "sigma = 0.2\n",
    "smooth_predictions = []\n",
    "for frame in test_x:\n",
    "    smooth_predictions.append(smooth_prediction(frame, resnet_1, sigma = sigma))\n",
    "smooth_predictions = np.array(smooth_predictions)\n",
    "print(\"Sigma = 0.2, Test Accuracy: {:.4}\".format(accuracy_score(correct_predictions, smooth_predictions)))"
   ]
  },
  {
   "cell_type": "code",
   "execution_count": 29,
   "metadata": {},
   "outputs": [
    {
     "name": "stdout",
     "output_type": "stream",
     "text": [
      "Sigma = 0.15, Test Accuracy: 0.7667\n"
     ]
    }
   ],
   "source": [
    "sigma = 0.15\n",
    "smooth_predictions = []\n",
    "for frame in test_x:\n",
    "    smooth_predictions.append(smooth_prediction(frame, resnet_1, sigma = sigma))\n",
    "smooth_predictions = np.array(smooth_predictions)\n",
    "print(\"Sigma = 0.15, Test Accuracy: {:.4}\".format(accuracy_score(correct_predictions, smooth_predictions)))"
   ]
  },
  {
   "cell_type": "code",
   "execution_count": 30,
   "metadata": {},
   "outputs": [
    {
     "name": "stdout",
     "output_type": "stream",
     "text": [
      "Sigma = 0.1, Test Accuracy: 0.82\n"
     ]
    }
   ],
   "source": [
    "sigma = 0.1\n",
    "smooth_predictions = []\n",
    "for frame in test_x:\n",
    "    smooth_predictions.append(smooth_prediction(frame, resnet_1, sigma = sigma))\n",
    "smooth_predictions = np.array(smooth_predictions)\n",
    "print(\"Sigma = 0.1, Test Accuracy: {:.4}\".format(accuracy_score(correct_predictions, smooth_predictions)))"
   ]
  },
  {
   "cell_type": "code",
   "execution_count": 31,
   "metadata": {},
   "outputs": [
    {
     "name": "stdout",
     "output_type": "stream",
     "text": [
      "Sigma = 0.085, Test Accuracy: 0.8333\n"
     ]
    }
   ],
   "source": [
    "sigma = 0.085\n",
    "smooth_predictions = []\n",
    "for frame in test_x:\n",
    "    smooth_predictions.append(smooth_prediction(frame, resnet_1, sigma = sigma))\n",
    "smooth_predictions = np.array(smooth_predictions)\n",
    "print(\"Sigma = 0.085, Test Accuracy: {:.4}\".format(accuracy_score(correct_predictions, smooth_predictions)))"
   ]
  },
  {
   "cell_type": "code",
   "execution_count": 32,
   "metadata": {},
   "outputs": [
    {
     "name": "stdout",
     "output_type": "stream",
     "text": [
      "Sigma = 0.05, Test Accuracy: 0.8867\n"
     ]
    }
   ],
   "source": [
    "sigma = 0.065\n",
    "smooth_predictions = []\n",
    "for frame in test_x:\n",
    "    smooth_predictions.append(smooth_prediction(frame, resnet_1, sigma = sigma))\n",
    "smooth_predictions = np.array(smooth_predictions)\n",
    "print(\"Sigma = 0.05, Test Accuracy: {:.4}\".format(accuracy_score(correct_predictions, smooth_predictions)))"
   ]
  },
  {
   "cell_type": "code",
   "execution_count": 33,
   "metadata": {},
   "outputs": [
    {
     "name": "stdout",
     "output_type": "stream",
     "text": [
      "Sigma = 0.05, Test Accuracy: 0.8933\n"
     ]
    }
   ],
   "source": [
    "sigma = 0.05\n",
    "smooth_predictions = []\n",
    "for frame in test_x:\n",
    "    smooth_predictions.append(smooth_prediction(frame, resnet_1, sigma = sigma))\n",
    "smooth_predictions = np.array(smooth_predictions)\n",
    "print(\"Sigma = 0.05, Test Accuracy: {:.4}\".format(accuracy_score(correct_predictions, smooth_predictions)))"
   ]
  },
  {
   "cell_type": "code",
   "execution_count": 36,
   "metadata": {},
   "outputs": [
    {
     "name": "stdout",
     "output_type": "stream",
     "text": [
      "Sigma = 0.03, Test Accuracy: 0.9333\n"
     ]
    }
   ],
   "source": [
    "sigma = 0.03\n",
    "smooth_predictions = []\n",
    "for frame in test_x:\n",
    "    smooth_predictions.append(smooth_prediction(frame, resnet_1, sigma = sigma))\n",
    "smooth_predictions = np.array(smooth_predictions)\n",
    "print(\"Sigma = 0.03, Test Accuracy: {:.4}\".format(accuracy_score(correct_predictions, smooth_predictions)))"
   ]
  },
  {
   "cell_type": "code",
   "execution_count": 34,
   "metadata": {},
   "outputs": [
    {
     "name": "stdout",
     "output_type": "stream",
     "text": [
      "Sigma = 0.01, Test Accuracy: 0.9333\n"
     ]
    }
   ],
   "source": [
    "sigma = 0.01\n",
    "smooth_predictions = []\n",
    "for frame in test_x:\n",
    "    smooth_predictions.append(smooth_prediction(frame, resnet_1, sigma = sigma))\n",
    "smooth_predictions = np.array(smooth_predictions)\n",
    "print(\"Sigma = 0.01, Test Accuracy: {:.4}\".format(accuracy_score(correct_predictions, smooth_predictions)))"
   ]
  },
  {
   "cell_type": "code",
   "execution_count": null,
   "metadata": {},
   "outputs": [],
   "source": []
  },
  {
   "cell_type": "code",
   "execution_count": null,
   "metadata": {},
   "outputs": [],
   "source": []
  },
  {
   "cell_type": "code",
   "execution_count": null,
   "metadata": {},
   "outputs": [],
   "source": []
  },
  {
   "cell_type": "code",
   "execution_count": null,
   "metadata": {},
   "outputs": [],
   "source": []
  },
  {
   "cell_type": "code",
   "execution_count": null,
   "metadata": {},
   "outputs": [],
   "source": []
  },
  {
   "cell_type": "code",
   "execution_count": null,
   "metadata": {},
   "outputs": [],
   "source": []
  },
  {
   "cell_type": "markdown",
   "metadata": {},
   "source": [
    "## Experiment: Smoothing with noisy data\n",
    "## Sigma = ???\n",
    "### Training: 500 positive (113 real + 387 generated) and 500 negative \n",
    "### Test: 75 positive (29 real + 46 generated) and 75 negative"
   ]
  },
  {
   "cell_type": "code",
   "execution_count": 21,
   "metadata": {},
   "outputs": [],
   "source": []
  },
  {
   "cell_type": "code",
   "execution_count": 22,
   "metadata": {},
   "outputs": [
    {
     "name": "stdout",
     "output_type": "stream",
     "text": [
      "Sigma = 0.3, Test Accuracy: 0.58\n"
     ]
    }
   ],
   "source": [
    "sigma = 0.3\n",
    "noise = torch.randn_like(torch.Tensor(test_x_exp_1))*sigma\n",
    "test_x_noisy = torch.Tensor(test_x_exp_1) + noise\n",
    "t_max = test_x_noisy.max()\n",
    "t_min = test_x_noisy.min()\n",
    "t_mm = t_max-t_min\n",
    "test_x_noisy_norm = (test_x_noisy - t_min)/(t_max-t_min)\n",
    "pred_noisy = resnet_1(test_x_noisy_norm.to(device)).argmax(1).cpu().numpy()\n",
    "print(\"Sigma = 0.3, Test Accuracy: {:.4}\".format(accuracy_score(correct_predictions, pred_noisy)))"
   ]
  },
  {
   "cell_type": "code",
   "execution_count": 23,
   "metadata": {},
   "outputs": [
    {
     "name": "stdout",
     "output_type": "stream",
     "text": [
      "Sigma = 0.25, Test Accuracy: 0.5667\n"
     ]
    }
   ],
   "source": [
    "sigma = 0.25\n",
    "noise = torch.randn_like(torch.Tensor(test_x_exp_1))*sigma\n",
    "test_x_noisy = torch.Tensor(test_x_exp_1) + noise\n",
    "t_max = test_x_noisy.max()\n",
    "t_min = test_x_noisy.min()\n",
    "t_mm = t_max-t_min\n",
    "test_x_noisy_norm = (test_x_noisy - t_min)/(t_max-t_min)\n",
    "pred_noisy = resnet_1(test_x_noisy_norm.to(device)).argmax(1).cpu().numpy()\n",
    "print(\"Sigma = 0.25, Test Accuracy: {:.4}\".format(accuracy_score(correct_predictions, pred_noisy)))"
   ]
  },
  {
   "cell_type": "code",
   "execution_count": 24,
   "metadata": {},
   "outputs": [
    {
     "name": "stdout",
     "output_type": "stream",
     "text": [
      "Sigma = 0.2, Test Accuracy: 0.6067\n"
     ]
    }
   ],
   "source": [
    "sigma = 0.2\n",
    "noise = torch.randn_like(torch.Tensor(test_x_exp_1))*sigma\n",
    "test_x_noisy = torch.Tensor(test_x_exp_1) + noise\n",
    "t_max = test_x_noisy.max()\n",
    "t_min = test_x_noisy.min()\n",
    "t_mm = t_max-t_min\n",
    "test_x_noisy_norm = (test_x_noisy - t_min)/(t_max-t_min)\n",
    "pred_noisy = resnet_1(test_x_noisy_norm.to(device)).argmax(1).cpu().numpy()\n",
    "print(\"Sigma = 0.2, Test Accuracy: {:.4}\".format(accuracy_score(correct_predictions, pred_noisy)))"
   ]
  },
  {
   "cell_type": "code",
   "execution_count": 25,
   "metadata": {},
   "outputs": [
    {
     "name": "stdout",
     "output_type": "stream",
     "text": [
      "Sigma = 0.15, Test Accuracy: 0.7133\n"
     ]
    }
   ],
   "source": [
    "sigma = 0.15\n",
    "noise = torch.randn_like(torch.Tensor(test_x_exp_1))*sigma\n",
    "test_x_noisy = torch.Tensor(test_x_exp_1) + noise\n",
    "t_max = test_x_noisy.max()\n",
    "t_min = test_x_noisy.min()\n",
    "t_mm = t_max-t_min\n",
    "test_x_noisy_norm = (test_x_noisy - t_min)/(t_max-t_min)\n",
    "pred_noisy = resnet_1(test_x_noisy_norm.to(device)).argmax(1).cpu().numpy()\n",
    "print(\"Sigma = 0.15, Test Accuracy: {:.4}\".format(accuracy_score(correct_predictions, pred_noisy)))"
   ]
  },
  {
   "cell_type": "code",
   "execution_count": 26,
   "metadata": {},
   "outputs": [
    {
     "name": "stdout",
     "output_type": "stream",
     "text": [
      "Sigma = 0.1, Test Accuracy: 0.7867\n"
     ]
    }
   ],
   "source": [
    "sigma = 0.1\n",
    "noise = torch.randn_like(torch.Tensor(test_x_exp_1))*sigma\n",
    "test_x_noisy = torch.Tensor(test_x_exp_1) + noise\n",
    "t_max = test_x_noisy.max()\n",
    "t_min = test_x_noisy.min()\n",
    "t_mm = t_max-t_min\n",
    "test_x_noisy_norm = (test_x_noisy - t_min)/(t_max-t_min)\n",
    "pred_noisy = resnet_1(test_x_noisy_norm.to(device)).argmax(1).cpu().numpy()\n",
    "print(\"Sigma = 0.1, Test Accuracy: {:.4}\".format(accuracy_score(correct_predictions, pred_noisy)))"
   ]
  },
  {
   "cell_type": "code",
   "execution_count": 27,
   "metadata": {},
   "outputs": [
    {
     "name": "stdout",
     "output_type": "stream",
     "text": [
      "Sigma = 0.05, Test Accuracy: 0.88\n"
     ]
    }
   ],
   "source": [
    "sigma = 0.05\n",
    "noise = torch.randn_like(torch.Tensor(test_x_exp_1))*sigma\n",
    "test_x_noisy = torch.Tensor(test_x_exp_1) + noise\n",
    "t_max = test_x_noisy.max()\n",
    "t_min = test_x_noisy.min()\n",
    "t_mm = t_max-t_min\n",
    "test_x_noisy_norm = (test_x_noisy - t_min)/(t_max-t_min)\n",
    "pred_noisy = resnet_1(test_x_noisy_norm.to(device)).argmax(1).cpu().numpy()\n",
    "print(\"Sigma = 0.05, Test Accuracy: {:.4}\".format(accuracy_score(correct_predictions, pred_noisy)))"
   ]
  },
  {
   "cell_type": "code",
   "execution_count": 28,
   "metadata": {},
   "outputs": [
    {
     "name": "stdout",
     "output_type": "stream",
     "text": [
      "Sigma = 0.01, Test Accuracy: 0.94\n"
     ]
    }
   ],
   "source": [
    "sigma = 0.01\n",
    "noise = torch.randn_like(torch.Tensor(test_x_exp_1))*sigma\n",
    "test_x_noisy = torch.Tensor(test_x_exp_1) + noise\n",
    "t_max = test_x_noisy.max()\n",
    "t_min = test_x_noisy.min()\n",
    "t_mm = t_max-t_min\n",
    "test_x_noisy_norm = (test_x_noisy - t_min)/(t_max-t_min)\n",
    "pred_noisy = resnet_1(test_x_noisy_norm.to(device)).argmax(1).cpu().numpy()\n",
    "print(\"Sigma = 0.01, Test Accuracy: {:.4}\".format(accuracy_score(correct_predictions, pred_noisy)))"
   ]
  },
  {
   "cell_type": "code",
   "execution_count": null,
   "metadata": {},
   "outputs": [],
   "source": []
  },
  {
   "cell_type": "code",
   "execution_count": null,
   "metadata": {},
   "outputs": [],
   "source": []
  }
 ],
 "metadata": {
  "kernelspec": {
   "display_name": "Python 3",
   "language": "python",
   "name": "python3"
  },
  "language_info": {
   "codemirror_mode": {
    "name": "ipython",
    "version": 3
   },
   "file_extension": ".py",
   "mimetype": "text/x-python",
   "name": "python",
   "nbconvert_exporter": "python",
   "pygments_lexer": "ipython3",
   "version": "3.7.3"
  }
 },
 "nbformat": 4,
 "nbformat_minor": 2
}
